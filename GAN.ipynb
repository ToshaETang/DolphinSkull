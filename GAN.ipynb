{
 "cells": [
  {
   "cell_type": "code",
   "execution_count": null,
   "id": "c7f12d4e",
   "metadata": {},
   "outputs": [],
   "source": [
    "# 保存生成器和判别器的權重\n",
    "#generator.save_weights('generator_weights.h5')\n",
    "#discriminator.save_weights('discriminator_weights.h5')"
   ]
  },
  {
   "cell_type": "code",
   "execution_count": null,
   "id": "83780d27",
   "metadata": {},
   "outputs": [],
   "source": []
  },
  {
   "cell_type": "code",
   "execution_count": null,
   "id": "e7405f65",
   "metadata": {},
   "outputs": [],
   "source": []
  },
  {
   "cell_type": "markdown",
   "id": "0ba988e0",
   "metadata": {},
   "source": [
    "# 灰度轉換"
   ]
  },
  {
   "cell_type": "code",
   "execution_count": 2,
   "id": "d674f78a",
   "metadata": {},
   "outputs": [
    {
     "name": "stdout",
     "output_type": "stream",
     "text": [
      "灰度轉換完成\n"
     ]
    }
   ],
   "source": [
    "# pip install opencv-python\n",
    "# pip install opencv-python --upgrade\n",
    "\n",
    "import cv2\n",
    "import os\n",
    "\n",
    "# 指定原始彩色圖像文件夾和目標灰度圖像文件夾\n",
    "original_folder = r'C:\\Users\\Tosha.E.T\\Documents\\GitHub\\DolphinSkull\\2022-3-8'\n",
    "gray_folder = r'C:\\Users\\Tosha.E.T\\Documents\\GitHub\\DolphinSkull\\2022-3-8\\gray\\class_1'\n",
    "\n",
    "# 確保目標文件夾存在\n",
    "if not os.path.exists(gray_folder):\n",
    "    os.makedirs(gray_folder)\n",
    "\n",
    "# 遍歷原始文件夾中的每個圖像\n",
    "for filename in os.listdir(original_folder):\n",
    "    if filename.endswith('.JPG'):\n",
    "        # 讀取原始圖像\n",
    "        original_image_path = os.path.join(original_folder, filename)\n",
    "        original_image = cv2.imread(original_image_path)\n",
    "\n",
    "        # 將彩色圖像轉換為灰度圖像\n",
    "        gray_image = cv2.cvtColor(original_image, cv2.COLOR_BGR2GRAY)\n",
    "\n",
    "        # 保存灰度圖像到目標文件夾\n",
    "        gray_image_path = os.path.join(gray_folder, filename)\n",
    "        cv2.imwrite(gray_image_path, gray_image)\n",
    "\n",
    "print(\"灰度轉換完成\")\n"
   ]
  },
  {
   "cell_type": "code",
   "execution_count": null,
   "id": "bf0b847a",
   "metadata": {},
   "outputs": [],
   "source": []
  },
  {
   "cell_type": "code",
   "execution_count": null,
   "id": "b2340c7b",
   "metadata": {},
   "outputs": [],
   "source": []
  },
  {
   "cell_type": "markdown",
   "id": "242f26af",
   "metadata": {},
   "source": [
    "# 訓練模型"
   ]
  },
  {
   "cell_type": "code",
   "execution_count": 4,
   "id": "01a5adcc",
   "metadata": {
    "scrolled": false
   },
   "outputs": [
    {
     "name": "stdout",
     "output_type": "stream",
     "text": [
      "Found 169 images belonging to 1 classes.\n"
     ]
    }
   ],
   "source": [
    "# pip install --upgrade protobuf\n",
    "# pip install protobuf==3.20.0\n",
    "\n",
    "import numpy as np\n",
    "from keras.models import Sequential, Model\n",
    "from keras.layers import Dense, Reshape, Flatten\n",
    "from keras.layers import Conv2D, Conv2DTranspose, LeakyReLU, BatchNormalization, Input\n",
    "#from keras.preprocessing.image import ImageDataGenerator\n",
    "from tensorflow.keras.preprocessing.image import ImageDataGenerator\n",
    "\n",
    "\n",
    "def build_generator(latent_dim):\n",
    "    model = Sequential()\n",
    "    model.add(Dense(128 * 7 * 7, input_dim=latent_dim))\n",
    "    model.add(LeakyReLU(alpha=0.2))\n",
    "    model.add(Reshape((7, 7, 128)))\n",
    "    model.add(Conv2DTranspose(128, (4, 4), strides=(2, 2), padding='same'))\n",
    "    model.add(LeakyReLU(alpha=0.2))\n",
    "    model.add(Conv2DTranspose(128, (4, 4), strides=(2, 2), padding='same'))\n",
    "    model.add(LeakyReLU(alpha=0.2))\n",
    "    model.add(Conv2D(1, (7, 7), activation='sigmoid', padding='same'))\n",
    "    return model\n",
    "\n",
    "\n",
    "def build_discriminator(input_shape):\n",
    "    model = Sequential()\n",
    "    model.add(Conv2D(64, (3, 3), strides=(2, 2), padding='same', input_shape=(28, 28, 1)))\n",
    "    model.add(LeakyReLU(alpha=0.2))\n",
    "    model.add(Conv2D(128, (3, 3), strides=(2, 2), padding='same'))\n",
    "    model.add(LeakyReLU(alpha=0.2))\n",
    "    model.add(Flatten())\n",
    "    model.add(Dense(1, activation='sigmoid'))\n",
    "    return model\n",
    "\n",
    "\n",
    "def build_gan(generator, discriminator):\n",
    "    discriminator.trainable = False\n",
    "    model = Sequential()\n",
    "    model.add(generator)\n",
    "    model.add(discriminator)\n",
    "    return model\n",
    "\n",
    "\n",
    "latent_dim = 100\n",
    "input_shape = (28, 28, 1)\n",
    "\n",
    "\n",
    "discriminator = build_discriminator(input_shape)\n",
    "discriminator.compile(loss='binary_crossentropy', optimizer='adam', metrics=['accuracy'])\n",
    "\n",
    "generator = build_generator(latent_dim)\n",
    "\n",
    "discriminator.trainable = False\n",
    "gan = build_gan(generator, discriminator)\n",
    "gan.compile(loss='binary_crossentropy', optimizer='adam')\n",
    "\n",
    "\n",
    "# 定义图像数据生成器\n",
    "datagen = ImageDataGenerator(rescale=1./255)\n",
    "\n",
    "# 通过图像数据生成器加载训练数据\n",
    "batch_size = 16\n",
    "train_generator = datagen.flow_from_directory(\n",
    "    r'C:\\Users\\Tosha.E.T\\Documents\\GitHub\\DolphinSkull\\2022-3-8\\gray',  \n",
    "    target_size=(28, 28),     \n",
    "    batch_size=batch_size,\n",
    "    class_mode='binary',\n",
    "    color_mode='grayscale'\n",
    ")\n",
    "\n",
    "\n",
    "epochs = 100  # 你可以根据需要设置训练的轮数\n",
    "# 训练GAN模型\n",
    "for epoch in range(epochs):\n",
    "    # 生成潜在噪声\n",
    "    noise = np.random.normal(0, 1, (batch_size, latent_dim))\n",
    "    \n",
    "    # 使用生成器生成假影像\n",
    "    generated_images = generator.predict(noise)\n",
    "\n",
    "    # 从数据生成器中获取一批真实影像\n",
    "    real_images, labels_real = train_generator.next()\n",
    "    \n",
    "    # print(generated_images)\n",
    "\n",
    "    # 进行判别器和生成器的训练\n",
    "    d_loss_real = discriminator.train_on_batch(real_images, labels_real)\n",
    "    labels_fake = np.zeros((batch_size, 1))  # 添加缺失的 labels_fake\n",
    "    d_loss_fake = discriminator.train_on_batch(generated_images, labels_fake)\n",
    "\n",
    "    # 修改生成器的輸出形狀\n",
    "    noise = np.random.normal(0, 1, (batch_size, latent_dim))\n",
    "    generated_images = generator.predict(noise)\n",
    "    labels_fake = np.zeros((batch_size, 1))  # 添加缺失的 labels_fake\n",
    "\n",
    "    # 重新進行判别器和生成器的訓練\n",
    "    d_loss_real = discriminator.train_on_batch(real_images, labels_real)\n",
    "    d_loss_fake = discriminator.train_on_batch(generated_images, labels_fake)\n",
    "\n",
    "    d_loss = 0.5 * np.add(d_loss_real, d_loss_fake)\n",
    "\n",
    "    noise = np.random.normal(0, 1, (batch_size, latent_dim))\n",
    "    labels_gan = np.ones((batch_size, 1))\n",
    "\n",
    "    g_loss = gan.train_on_batch(noise, labels_gan)"
   ]
  },
  {
   "cell_type": "code",
   "execution_count": null,
   "id": "b131fa4b",
   "metadata": {},
   "outputs": [],
   "source": []
  },
  {
   "cell_type": "markdown",
   "id": "7aef3ffa",
   "metadata": {},
   "source": [
    "# 顯示假的影像"
   ]
  },
  {
   "cell_type": "code",
   "execution_count": 8,
   "id": "6e56f9e4",
   "metadata": {},
   "outputs": [
    {
     "data": {
      "image/png": "[encoded data removed]",
      "text/plain": [
       "<Figure size 432x288 with 16 Axes>"
      ]
     },
     "metadata": {
      "needs_background": "light"
     },
     "output_type": "display_data"
    }
   ],
   "source": [
    "import matplotlib.pyplot as plt\n",
    "\n",
    "# 生成潛在噪聲\n",
    "noise = np.random.normal(0, 1, (batch_size, latent_dim))\n",
    "\n",
    "# 使用生成器生成假影像\n",
    "generated_images = generator.predict(noise)\n",
    "\n",
    "# 將生成的假影像顯示出來\n",
    "rows, columns = 4, 4  # 設定顯示的行列數\n",
    "fig, axs = plt.subplots(rows, columns)\n",
    "\n",
    "# 將每個生成的影像放入子圖\n",
    "for i in range(rows):\n",
    "    for j in range(columns):\n",
    "        axs[i, j].imshow(generated_images[i * columns + j, :, :, 0], cmap='gray')\n",
    "        axs[i, j].axis('off')\n",
    "\n",
    "plt.show()\n"
   ]
  },
  {
   "cell_type": "code",
   "execution_count": null,
   "id": "047280c8",
   "metadata": {},
   "outputs": [],
   "source": []
  }
 ],
 "metadata": {
  "kernelspec": {
   "display_name": "Python 3",
   "language": "python",
   "name": "python3"
  },
  "language_info": {
   "codemirror_mode": {
    "name": "ipython",
    "version": 3
   },
   "file_extension": ".py",
   "mimetype": "text/x-python",
   "name": "python",
   "nbconvert_exporter": "python",
   "pygments_lexer": "ipython3",
   "version": "3.9.2"
  }
 },
 "nbformat": 4,
 "nbformat_minor": 5
}
